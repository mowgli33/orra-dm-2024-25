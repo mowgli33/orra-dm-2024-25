{
 "cells": [
  {
   "cell_type": "code",
   "execution_count": 179,
   "metadata": {},
   "outputs": [],
   "source": [
    "import os\n",
    "import sys\n",
    "\n",
    "sys.path.append(\"../python\")\n",
    "\n",
    "import matplotlib.pyplot as plt\n",
    "import numpy as np\n",
    "import importlib\n"
   ]
  },
  {
   "cell_type": "code",
   "execution_count": 180,
   "metadata": {},
   "outputs": [],
   "source": [
    "from data import Dataloader\n",
    "from models import RandomExampleModel, TwoClustersMIP\n",
    "import metrics"
   ]
  },
  {
   "cell_type": "markdown",
   "metadata": {},
   "source": [
    "## MIP"
   ]
  },
  {
   "cell_type": "code",
   "execution_count": 19,
   "metadata": {},
   "outputs": [],
   "source": [
    "# Loading the data\n",
    "data_loader = Dataloader(\"../data/dataset_4\") # Specify path to the dataset you want to load\n",
    "X, Y = data_loader.load()\n"
   ]
  },
  {
   "cell_type": "code",
   "execution_count": 20,
   "metadata": {},
   "outputs": [],
   "source": [
    "P, n = X.shape\n",
    "K = 2\n",
    "L = 10"
   ]
  },
  {
   "cell_type": "code",
   "execution_count": 21,
   "metadata": {},
   "outputs": [
    {
     "data": {
      "text/plain": [
       "4000"
      ]
     },
     "execution_count": 21,
     "metadata": {},
     "output_type": "execute_result"
    }
   ],
   "source": [
    "len([(j, k) for j in range(2000) for k in range(2)])"
   ]
  },
  {
   "cell_type": "code",
   "execution_count": 22,
   "metadata": {},
   "outputs": [],
   "source": [
    "# P2 = 1000\n",
    "# X,Y = X[:P2,:], Y[:P2,:]"
   ]
  },
  {
   "cell_type": "code",
   "execution_count": 23,
   "metadata": {},
   "outputs": [],
   "source": [
    "importlib.reload(importlib.import_module('models'))\n",
    "from models import RandomExampleModel, TwoClustersMIP"
   ]
  },
  {
   "cell_type": "code",
   "execution_count": 24,
   "metadata": {},
   "outputs": [
    {
     "name": "stdout",
     "output_type": "stream",
     "text": [
      "Set parameter Seed to value 123\n",
      "Fitting the model\n",
      "Gurobi Optimizer version 12.0.0 build v12.0.0rc1 (mac64[arm] - Darwin 24.2.0 24C101)\n",
      "\n",
      "CPU model: Apple M1\n",
      "Thread count: 8 physical cores, 8 logical processors, using up to 8 threads\n",
      "\n",
      "Non-default parameters:\n",
      "Seed  123\n",
      "\n",
      "Optimize a model with 6084 rows, 8088 columns and 69634 nonzeros\n",
      "Model fingerprint: 0xe1f3f469\n",
      "Variable types: 4088 continuous, 4000 integer (4000 binary)\n",
      "Coefficient statistics:\n",
      "  Matrix range     [1e-05, 2e+00]\n",
      "  Objective range  [1e+00, 1e+00]\n",
      "  Bounds range     [1e+00, 1e+00]\n",
      "  RHS range        [1e-05, 2e+00]\n",
      "Found heuristic solution: objective 107.4285617\n",
      "Presolve removed 2010 rows and 2008 columns\n",
      "Presolve time: 0.10s\n",
      "Presolved: 4074 rows, 6080 columns, 62232 nonzeros\n",
      "Variable types: 4080 continuous, 2000 integer (2000 binary)\n",
      "\n",
      "Root relaxation: objective 0.000000e+00, 1316 iterations, 0.09 seconds (0.14 work units)\n",
      "\n",
      "    Nodes    |    Current Node    |     Objective Bounds      |     Work\n",
      " Expl Unexpl |  Obj  Depth IntInf | Incumbent    BestBd   Gap | It/Node Time\n",
      "\n",
      "     0     0    0.00000    0  293  107.42856    0.00000   100%     -    1s\n",
      "H    0     0                      22.1474622    0.00000   100%     -    1s\n",
      "H    0     0                      12.4826502    0.00000   100%     -    1s\n",
      "H    0     0                       8.3421726    0.00000   100%     -    1s\n",
      "     0     0    0.00000    0  268    8.34217    0.00000   100%     -    2s\n",
      "     0     0    0.00000    0  268    8.34217    0.00000   100%     -    2s\n",
      "\n",
      "Interrupt request received\n",
      "     0     0    0.00000    0  276    8.34217    0.00000   100%     -    2s\n",
      "\n",
      "Cutting planes:\n",
      "  Gomory: 66\n",
      "  MIR: 6\n",
      "  RLT: 7\n",
      "\n",
      "Explored 1 nodes (8799 simplex iterations) in 2.92 seconds (3.18 work units)\n",
      "Thread count was 8 (of 8 available processors)\n",
      "\n",
      "Solution count 5: 8.34217 8.34217 12.4827 ... 107.429\n",
      "\n",
      "Solve interrupted\n",
      "Warning: max bound violation (1.3780e-06) exceeds tolerance\n",
      "Best objective 8.342171389781e+00, best bound 0.000000000000e+00, gap 100.0000%\n"
     ]
    }
   ],
   "source": [
    "# Let's train an example model\n",
    "model = TwoClustersMIP(n_pieces=L,n_clusters=K,n_criterions=n,n_pairs=P) # Instantiation of the model with hyperparameters, if needed\n",
    "model.fit(X, Y) # Training of the model, using preference data"
   ]
  },
  {
   "cell_type": "code",
   "execution_count": null,
   "metadata": {},
   "outputs": [
    {
     "name": "stdout",
     "output_type": "stream",
     "text": [
      "[[0.96294235 0.98477362]\n",
      " [0.85708385 0.58999745]\n",
      " [0.76711726 0.51634023]\n",
      " ...\n",
      " [0.75134051 0.9934796 ]\n",
      " [0.74367959 0.9869709 ]\n",
      " [0.64978905 0.98801428]]\n"
     ]
    }
   ],
   "source": [
    "print(model.predict_utility(X))"
   ]
  },
  {
   "cell_type": "code",
   "execution_count": 117,
   "metadata": {},
   "outputs": [
    {
     "name": "stdout",
     "output_type": "stream",
     "text": [
      "[[ 0.15147149 -0.01389374]\n",
      " [ 0.0950977  -0.38183603]\n",
      " [ 0.08881266 -0.49915283]\n",
      " [-0.04444407  0.25828882]\n",
      " [ 0.07673449 -0.00146251]]\n"
     ]
    }
   ],
   "source": [
    "# First, let's see how our model reconsiders our preferences\n",
    "# Our data preferences were X[i] >> Y[i] for all i, let's see if our model agrees\n",
    "print((model.predict_utility(X) - model.predict_utility(Y))[:5]) # Preferred item has a higher utility\n",
    "\n",
    "# predict_utility returns utility of samples for each cluster, returning shape (n_samples, n_clusters)"
   ]
  },
  {
   "cell_type": "code",
   "execution_count": 118,
   "metadata": {},
   "outputs": [
    {
     "name": "stdout",
     "output_type": "stream",
     "text": [
      "[[1 0]\n",
      " [1 0]\n",
      " [1 0]\n",
      " [0 1]\n",
      " [1 0]]\n"
     ]
    }
   ],
   "source": [
    "# Or we can directly use the predict_preference method:\n",
    "print(model.predict_preference(X, Y)[:5]) # For each cluster we see if X is preferred to Y (0) or the contrary (1)\n",
    "# predict_preference returns preference of samples for each cluster, returning shape (n_samples, n_clusters)\n",
    "# 0 means that the cluster prefers first argument (here X[i]), 1 means that the cluster prefers second argument (here Y[i])"
   ]
  },
  {
   "cell_type": "code",
   "execution_count": 119,
   "metadata": {},
   "outputs": [
    {
     "name": "stdout",
     "output_type": "stream",
     "text": [
      "Percentage of explained preferences for 5 first samples: 1.0\n"
     ]
    }
   ],
   "source": [
    "# We consider that our model explains our data, if for at least one cluster, X[i] >> Y[i]\n",
    "pairs_explained = np.sum(model.predict_preference(X, Y)[:5] == 0, axis=1) # For each sample check if each clusters prefers X[i] (then is True)\n",
    "pairs_explained = pairs_explained > 0 # If at least one cluster prefers X[i], then X[i] >> Y[i] is explained\n",
    "print(\"Percentage of explained preferences for 5 first samples:\", np.sum(pairs_explained) / 5) # Get % or explained pairs"
   ]
  },
  {
   "cell_type": "code",
   "execution_count": 120,
   "metadata": {},
   "outputs": [
    {
     "name": "stdout",
     "output_type": "stream",
     "text": [
      "Percentage of explained preferences for all samples: 0.989\n",
      "Percentage of explained preferences for all samples: 0.989\n"
     ]
    }
   ],
   "source": [
    "# Or we call directly the right metric:\n",
    "pairs_explained = metrics.PairsExplained()\n",
    "print(\"Percentage of explained preferences for all samples:\", pairs_explained.from_model(model, X, Y))\n",
    "# Or other possibility:\n",
    "print(\"Percentage of explained preferences for all samples:\", pairs_explained(model.predict_utility(X), model.predict_utility(Y)))"
   ]
  },
  {
   "cell_type": "code",
   "execution_count": 121,
   "metadata": {},
   "outputs": [
    {
     "name": "stdout",
     "output_type": "stream",
     "text": [
      "[0 0 0 1 0]\n"
     ]
    }
   ],
   "source": [
    "# Now, we can also see how our model clusters our data\n",
    "print(model.predict_cluster(X, Y)[:5]) # Returns for each sample which cluster is the most likely to have generated the preference.\n",
    "# The most likely cluster is the one with the highest utility difference U(X[i])-U(Y[i]) for the sample."
   ]
  },
  {
   "cell_type": "code",
   "execution_count": 122,
   "metadata": {},
   "outputs": [
    {
     "name": "stdout",
     "output_type": "stream",
     "text": [
      "[0 0 0 1 0]\n"
     ]
    }
   ],
   "source": [
    "# Ground truth are also provided:\n",
    "Z = data_loader.get_ground_truth_labels()\n",
    "# We can see how it compares to our model's predictions:\n",
    "print(Z[:5])"
   ]
  },
  {
   "cell_type": "code",
   "execution_count": 123,
   "metadata": {},
   "outputs": [
    {
     "name": "stdout",
     "output_type": "stream",
     "text": [
      "Cluster intersection for 5 first samples: 1.0\n",
      "Cluster intersection for all samples: 0.983136068034017\n",
      "Cluster intersection for all samples: 0.983136068034017\n"
     ]
    }
   ],
   "source": [
    "# We have a metric to calculate how well the model has regrouped the preferences pairs compared to ground truth:\n",
    "cluster_intersection = metrics.ClusterIntersection()\n",
    "\n",
    "print(\"Cluster intersection for 5 first samples:\", cluster_intersection(model.predict_cluster(X, Y)[:5], Z[:5]))\n",
    "\n",
    "# Then for all data:\n",
    "print(\"Cluster intersection for all samples:\", cluster_intersection(model.predict_cluster(X, Y), Z))\n",
    "print(\"Cluster intersection for all samples:\", cluster_intersection.from_model(model, X, Y, Z))"
   ]
  },
  {
   "cell_type": "code",
   "execution_count": 125,
   "metadata": {},
   "outputs": [
    {
     "data": {
      "image/png": "[encoded data removed]",
      "text/plain": [
       "<Figure size 640x480 with 1 Axes>"
      ]
     },
     "metadata": {},
     "output_type": "display_data"
    }
   ],
   "source": [
    "# Here is a proposition of a useful plot to see how the model clusters the data:\n",
    "# We look at how each cluster evaluates U(x) - U(y) and color with ground truth clustering\n",
    "# Note that x >>_1 y means that x is preferred to y for cluster 1\n",
    "from matplotlib.patches import Rectangle\n",
    "from matplotlib.lines import Line2D\n",
    "\n",
    "plt.figure()\n",
    "plt.xlabel(\"U1(x) - U1(y)\")\n",
    "plt.ylabel(\"U2(x) - U2(y)\")\n",
    "\n",
    "plt.gca().add_patch(Rectangle((0,-1.),1., 2.,\n",
    "                    edgecolor='red',\n",
    "                    facecolor='none',\n",
    "                    lw=0, \n",
    "                    hatch='/'))\n",
    "plt.gca().add_patch(Rectangle((-1.,0), 2., 1.,\n",
    "                    edgecolor='green',\n",
    "                    facecolor='none',\n",
    "                    lw=0, \n",
    "                    hatch='\\\\'))\n",
    "plt.gca().add_patch(Rectangle((-1.,-1.),1., 1.,\n",
    "                    edgecolor='blue',\n",
    "                    facecolor='none',\n",
    "                    hatch='/',\n",
    "                    lw=0))\n",
    "plt.scatter(model.predict_utility(X)[:, 0]-model.predict_utility(Y)[:, 0], \n",
    "            model.predict_utility(X)[:, 1]-model.predict_utility(Y)[:, 1], c=Z[:P])\n",
    "\n",
    "custom_lines = [Line2D([0], [0], color=\"red\", lw=4),\n",
    "                Line2D([0], [0], color=\"green\", lw=4),\n",
    "                Line2D([0], [0], color=\"b\", lw=4)]\n",
    "\n",
    "plt.legend(custom_lines, ['x >>_1 y', \"x >>_2 y \", 'No preference of x over y'])\n",
    "plt.show()"
   ]
  },
  {
   "cell_type": "markdown",
   "metadata": {},
   "source": [
    "Our random model cannot explain a large part of our preference data. Your first assigment will be to write a Mixed-Interger Programming algorithm that will be able to do so."
   ]
  },
  {
   "cell_type": "code",
   "execution_count": 16,
   "metadata": {},
   "outputs": [
    {
     "name": "stdout",
     "output_type": "stream",
     "text": [
      "fitting\n"
     ]
    },
    {
     "ename": "KeyError",
     "evalue": "(5, 0)",
     "output_type": "error",
     "traceback": [
      "\u001b[0;31m---------------------------------------------------------------------------\u001b[0m",
      "\u001b[0;31mKeyError\u001b[0m                                  Traceback (most recent call last)",
      "Cell \u001b[0;32mIn[16], line 6\u001b[0m\n\u001b[1;32m      4\u001b[0m parameters \u001b[38;5;241m=\u001b[39m {\u001b[38;5;124m\"\u001b[39m\u001b[38;5;124mn_pieces\u001b[39m\u001b[38;5;124m\"\u001b[39m: \u001b[38;5;241m5\u001b[39m, \u001b[38;5;124m\"\u001b[39m\u001b[38;5;124mn_clusters\u001b[39m\u001b[38;5;124m\"\u001b[39m: \u001b[38;5;241m2\u001b[39m} \u001b[38;5;66;03m# Can be completed\u001b[39;00m\n\u001b[1;32m      5\u001b[0m model \u001b[38;5;241m=\u001b[39m TwoClustersMIP(\u001b[38;5;241m*\u001b[39m\u001b[38;5;241m*\u001b[39mparameters)\n\u001b[0;32m----> 6\u001b[0m \u001b[43mmodel\u001b[49m\u001b[38;5;241;43m.\u001b[39;49m\u001b[43mfit\u001b[49m\u001b[43m(\u001b[49m\u001b[43mX\u001b[49m\u001b[43m,\u001b[49m\u001b[43m \u001b[49m\u001b[43mY\u001b[49m\u001b[43m)\u001b[49m\n\u001b[1;32m      8\u001b[0m \u001b[38;5;66;03m# Uncomment once your model is working\u001b[39;00m\n\u001b[1;32m      9\u001b[0m \u001b[38;5;66;03m# print(\"Percentage of explained preferences on train data:\", pairs_explained.from_model(model, X, Y)) # You should get 1.0 with the right MIP\u001b[39;00m\n\u001b[1;32m     10\u001b[0m \u001b[38;5;66;03m# print(\"Percentage of preferences well regrouped into clusters:\", cluster_intersection.from_model(model, X, Y, Z))\u001b[39;00m\n",
      "File \u001b[0;32m~/DM_project/orra-dm-2024-25/notebooks/../python/models.py:231\u001b[0m, in \u001b[0;36mTwoClustersMIP.fit\u001b[0;34m(self, X, Y)\u001b[0m\n\u001b[1;32m    228\u001b[0m \u001b[38;5;66;03m# Add constraints\u001b[39;00m\n\u001b[1;32m    229\u001b[0m \u001b[38;5;28;01mfor\u001b[39;00m i \u001b[38;5;129;01min\u001b[39;00m \u001b[38;5;28mrange\u001b[39m(n_samples):\n\u001b[1;32m    230\u001b[0m     \u001b[38;5;28mself\u001b[39m\u001b[38;5;241m.\u001b[39mmodel\u001b[38;5;241m.\u001b[39madd_constraint(\n\u001b[0;32m--> 231\u001b[0m         \u001b[38;5;28;43msum\u001b[39;49m\u001b[43m(\u001b[49m\u001b[38;5;28;43mself\u001b[39;49m\u001b[38;5;241;43m.\u001b[39;49m\u001b[43mx\u001b[49m\u001b[43m[\u001b[49m\u001b[43mi\u001b[49m\u001b[43m,\u001b[49m\u001b[43m \u001b[49m\u001b[43mk\u001b[49m\u001b[43m]\u001b[49m\u001b[43m \u001b[49m\u001b[38;5;28;43;01mfor\u001b[39;49;00m\u001b[43m \u001b[49m\u001b[43mk\u001b[49m\u001b[43m \u001b[49m\u001b[38;5;129;43;01min\u001b[39;49;00m\u001b[43m \u001b[49m\u001b[38;5;28;43mrange\u001b[39;49m\u001b[43m(\u001b[49m\u001b[38;5;28;43mself\u001b[39;49m\u001b[38;5;241;43m.\u001b[39;49m\u001b[43mn_clusters\u001b[49m\u001b[43m)\u001b[49m\u001b[43m)\u001b[49m \u001b[38;5;241m==\u001b[39m \u001b[38;5;241m1\u001b[39m,\n\u001b[1;32m    232\u001b[0m         ctname\u001b[38;5;241m=\u001b[39m\u001b[38;5;124mf\u001b[39m\u001b[38;5;124m\"\u001b[39m\u001b[38;5;124mone_cluster_per_sample_\u001b[39m\u001b[38;5;132;01m{\u001b[39;00mi\u001b[38;5;132;01m}\u001b[39;00m\u001b[38;5;124m\"\u001b[39m\n\u001b[1;32m    233\u001b[0m     )\n\u001b[1;32m    235\u001b[0m \u001b[38;5;66;03m# Add cluster utility constraints\u001b[39;00m\n\u001b[1;32m    236\u001b[0m \u001b[38;5;28;01mfor\u001b[39;00m j \u001b[38;5;129;01min\u001b[39;00m \u001b[38;5;28mrange\u001b[39m(n_samples):\n",
      "File \u001b[0;32m~/DM_project/orra-dm-2024-25/notebooks/../python/models.py:231\u001b[0m, in \u001b[0;36m<genexpr>\u001b[0;34m(.0)\u001b[0m\n\u001b[1;32m    228\u001b[0m \u001b[38;5;66;03m# Add constraints\u001b[39;00m\n\u001b[1;32m    229\u001b[0m \u001b[38;5;28;01mfor\u001b[39;00m i \u001b[38;5;129;01min\u001b[39;00m \u001b[38;5;28mrange\u001b[39m(n_samples):\n\u001b[1;32m    230\u001b[0m     \u001b[38;5;28mself\u001b[39m\u001b[38;5;241m.\u001b[39mmodel\u001b[38;5;241m.\u001b[39madd_constraint(\n\u001b[0;32m--> 231\u001b[0m         \u001b[38;5;28msum\u001b[39m(\u001b[38;5;28;43mself\u001b[39;49m\u001b[38;5;241;43m.\u001b[39;49m\u001b[43mx\u001b[49m\u001b[43m[\u001b[49m\u001b[43mi\u001b[49m\u001b[43m,\u001b[49m\u001b[43m \u001b[49m\u001b[43mk\u001b[49m\u001b[43m]\u001b[49m \u001b[38;5;28;01mfor\u001b[39;00m k \u001b[38;5;129;01min\u001b[39;00m \u001b[38;5;28mrange\u001b[39m(\u001b[38;5;28mself\u001b[39m\u001b[38;5;241m.\u001b[39mn_clusters)) \u001b[38;5;241m==\u001b[39m \u001b[38;5;241m1\u001b[39m,\n\u001b[1;32m    232\u001b[0m         ctname\u001b[38;5;241m=\u001b[39m\u001b[38;5;124mf\u001b[39m\u001b[38;5;124m\"\u001b[39m\u001b[38;5;124mone_cluster_per_sample_\u001b[39m\u001b[38;5;132;01m{\u001b[39;00mi\u001b[38;5;132;01m}\u001b[39;00m\u001b[38;5;124m\"\u001b[39m\n\u001b[1;32m    233\u001b[0m     )\n\u001b[1;32m    235\u001b[0m \u001b[38;5;66;03m# Add cluster utility constraints\u001b[39;00m\n\u001b[1;32m    236\u001b[0m \u001b[38;5;28;01mfor\u001b[39;00m j \u001b[38;5;129;01min\u001b[39;00m \u001b[38;5;28mrange\u001b[39m(n_samples):\n",
      "\u001b[0;31mKeyError\u001b[0m: (5, 0)"
     ]
    }
   ],
   "source": [
    "# This cell should work when you have completed the TwoClustersMIP model\n",
    "from models import TwoClustersMIP\n",
    "\n",
    "parameters = {\"n_pieces\": 5, \"n_clusters\": 2} # Can be completed\n",
    "model = TwoClustersMIP(**parameters)\n",
    "model.fit(X, Y)\n",
    "\n",
    "# Uncomment once your model is working\n",
    "# print(\"Percentage of explained preferences on train data:\", pairs_explained.from_model(model, X, Y)) # You should get 1.0 with the right MIP\n",
    "# print(\"Percentage of preferences well regrouped into clusters:\", cluster_intersection.from_model(model, X, Y, Z))"
   ]
  },
  {
   "cell_type": "code",
   "execution_count": 76,
   "metadata": {},
   "outputs": [
    {
     "data": {
      "image/png": "[encoded data removed]",
      "text/plain": [
       "<IPython.core.display.Image object>"
      ]
     },
     "execution_count": 76,
     "metadata": {},
     "output_type": "execute_result"
    }
   ],
   "source": [
    "# As an example here are the results obtained with:\n",
    "\"\"\" # Uncomment the code to check your results\n",
    "plt.figure()\n",
    "plt.scatter(model.predict_utility(X)[:, 0]-model.predict_utility(Y)[:, 0], \n",
    "            model.predict_utility(X)[:, 1]-model.predict_utility(Y)[:, 1], c=Z)\n",
    "plt.xlabel(\"U1(x) - U1(y)\")\n",
    "plt.ylabel(\"U2(x) - U2(y)\")\n",
    "plt.show()\n",
    "\"\"\"\n",
    "# Here is how it should look like\n",
    "from IPython.display import Image\n",
    "Image(\"../images/MIP_results_example.png\")"
   ]
  },
  {
   "cell_type": "markdown",
   "metadata": {},
   "source": [
    "## Heuristic"
   ]
  },
  {
   "cell_type": "markdown",
   "metadata": {},
   "source": [
    "Your second assignement will be to find a model that will work well with larger data instances."
   ]
  },
  {
   "cell_type": "code",
   "execution_count": 181,
   "metadata": {},
   "outputs": [],
   "source": [
    "from choice_learn.datasets import load_car_preferences\n",
    "import pandas as pd\n",
    "import numpy as np\n",
    "from sklearn.cluster import KMeans"
   ]
  },
  {
   "cell_type": "code",
   "execution_count": 182,
   "metadata": {},
   "outputs": [],
   "source": [
    "from matplotlib.patches import Rectangle\n",
    "from matplotlib.lines import Line2D\n",
    "\n",
    "# Fonction pour déplacer le 1 sur une autre colonne de manière aléatoire\n",
    "def changement_cluster(matrice, vecteur):\n",
    "    t, n = matrice.shape\n",
    "    for i in range(t):\n",
    "        if vecteur[i]:  # Si le vecteur est True pour cette ligne\n",
    "            # Trouver l'index de la colonne où le 1 est situé\n",
    "            col_1 = np.argmax(matrice[i, :])  # Trouver la colonne contenant le 1\n",
    "            # Choisir une nouvelle colonne aléatoire (différente de la colonne actuelle)\n",
    "            nouvelles_cols = list(range(n))\n",
    "            nouvelles_cols.remove(col_1)\n",
    "            nouvelle_col = np.random.choice(nouvelles_cols)\n",
    "            # Réinitialiser la ligne et placer le 1 à la nouvelle colonne\n",
    "            matrice[i, :] = 0\n",
    "            matrice[i, nouvelle_col] = 1\n",
    "    return matrice\n",
    "\n",
    "def plot_2D(predict_utility_X,predict_utility_Y):\n",
    "    plt.figure()\n",
    "    plt.xlabel(\"U1(x) - U1(y)\")\n",
    "    plt.ylabel(\"U2(x) - U2(y)\")\n",
    "\n",
    "    plt.gca().add_patch(Rectangle((0,-1.),1., 2.,\n",
    "                        edgecolor='red',\n",
    "                        facecolor='none',\n",
    "                        lw=0, \n",
    "                        hatch='/'))\n",
    "    plt.gca().add_patch(Rectangle((-1.,0), 2., 1.,\n",
    "                        edgecolor='green',\n",
    "                        facecolor='none',\n",
    "                        lw=0, \n",
    "                        hatch='\\\\'))\n",
    "    plt.gca().add_patch(Rectangle((-1.,-1.),1., 1.,\n",
    "                        edgecolor='blue',\n",
    "                        facecolor='none',\n",
    "                        hatch='/',\n",
    "                        lw=0))\n",
    "    plt.scatter(predict_utility_X[:, 0]-predict_utility_Y[:, 0], \n",
    "                predict_utility_X[:, 1]-predict_utility_Y[:, 1], c=Z[:P,0])\n",
    "\n",
    "    custom_lines = [Line2D([0], [0], color=\"red\", lw=4),\n",
    "                    Line2D([0], [0], color=\"green\", lw=4),\n",
    "                    Line2D([0], [0], color=\"b\", lw=4)]\n",
    "\n",
    "    plt.legend(custom_lines, ['x >>_1 y', \"x >>_2 y \", 'No preference of x over y'])\n",
    "    plt.show()"
   ]
  },
  {
   "cell_type": "code",
   "execution_count": 183,
   "metadata": {},
   "outputs": [
    {
     "data": {
      "text/html": [
       "<div>\n",
       "<style scoped>\n",
       "    .dataframe tbody tr th:only-of-type {\n",
       "        vertical-align: middle;\n",
       "    }\n",
       "\n",
       "    .dataframe tbody tr th {\n",
       "        vertical-align: top;\n",
       "    }\n",
       "\n",
       "    .dataframe thead th {\n",
       "        text-align: right;\n",
       "    }\n",
       "</style>\n",
       "<table border=\"1\" class=\"dataframe\">\n",
       "  <thead>\n",
       "    <tr style=\"text-align: right;\">\n",
       "      <th></th>\n",
       "      <th>rownames</th>\n",
       "      <th>choice</th>\n",
       "      <th>college</th>\n",
       "      <th>hsg</th>\n",
       "      <th>coml</th>\n",
       "      <th>price1</th>\n",
       "      <th>price2</th>\n",
       "      <th>price3</th>\n",
       "      <th>price4</th>\n",
       "      <th>price5</th>\n",
       "      <th>...</th>\n",
       "      <th>cost3</th>\n",
       "      <th>cost4</th>\n",
       "      <th>cost5</th>\n",
       "      <th>cost6</th>\n",
       "      <th>station1</th>\n",
       "      <th>station2</th>\n",
       "      <th>station3</th>\n",
       "      <th>station4</th>\n",
       "      <th>station5</th>\n",
       "      <th>station6</th>\n",
       "    </tr>\n",
       "  </thead>\n",
       "  <tbody>\n",
       "    <tr>\n",
       "      <th>0</th>\n",
       "      <td>1</td>\n",
       "      <td>choice1</td>\n",
       "      <td>0</td>\n",
       "      <td>0</td>\n",
       "      <td>0</td>\n",
       "      <td>4.175345</td>\n",
       "      <td>4.175345</td>\n",
       "      <td>4.817706</td>\n",
       "      <td>4.817706</td>\n",
       "      <td>5.138886</td>\n",
       "      <td>...</td>\n",
       "      <td>6</td>\n",
       "      <td>6</td>\n",
       "      <td>8</td>\n",
       "      <td>8</td>\n",
       "      <td>0.1</td>\n",
       "      <td>0.1</td>\n",
       "      <td>0.3</td>\n",
       "      <td>0.3</td>\n",
       "      <td>1.0</td>\n",
       "      <td>1.0</td>\n",
       "    </tr>\n",
       "    <tr>\n",
       "      <th>1</th>\n",
       "      <td>2</td>\n",
       "      <td>choice2</td>\n",
       "      <td>1</td>\n",
       "      <td>1</td>\n",
       "      <td>1</td>\n",
       "      <td>3.310947</td>\n",
       "      <td>3.310947</td>\n",
       "      <td>3.586859</td>\n",
       "      <td>3.586859</td>\n",
       "      <td>4.414596</td>\n",
       "      <td>...</td>\n",
       "      <td>8</td>\n",
       "      <td>8</td>\n",
       "      <td>4</td>\n",
       "      <td>4</td>\n",
       "      <td>0.0</td>\n",
       "      <td>0.0</td>\n",
       "      <td>0.1</td>\n",
       "      <td>0.1</td>\n",
       "      <td>1.0</td>\n",
       "      <td>1.0</td>\n",
       "    </tr>\n",
       "    <tr>\n",
       "      <th>2</th>\n",
       "      <td>3</td>\n",
       "      <td>choice5</td>\n",
       "      <td>0</td>\n",
       "      <td>1</td>\n",
       "      <td>0</td>\n",
       "      <td>4.039574</td>\n",
       "      <td>4.039574</td>\n",
       "      <td>2.777207</td>\n",
       "      <td>2.777207</td>\n",
       "      <td>3.282154</td>\n",
       "      <td>...</td>\n",
       "      <td>8</td>\n",
       "      <td>8</td>\n",
       "      <td>2</td>\n",
       "      <td>2</td>\n",
       "      <td>0.1</td>\n",
       "      <td>0.1</td>\n",
       "      <td>0.3</td>\n",
       "      <td>0.3</td>\n",
       "      <td>1.0</td>\n",
       "      <td>1.0</td>\n",
       "    </tr>\n",
       "    <tr>\n",
       "      <th>3</th>\n",
       "      <td>4</td>\n",
       "      <td>choice5</td>\n",
       "      <td>0</td>\n",
       "      <td>0</td>\n",
       "      <td>1</td>\n",
       "      <td>7.065968</td>\n",
       "      <td>7.065968</td>\n",
       "      <td>7.387149</td>\n",
       "      <td>7.387149</td>\n",
       "      <td>5.460066</td>\n",
       "      <td>...</td>\n",
       "      <td>2</td>\n",
       "      <td>2</td>\n",
       "      <td>4</td>\n",
       "      <td>4</td>\n",
       "      <td>0.0</td>\n",
       "      <td>0.0</td>\n",
       "      <td>0.7</td>\n",
       "      <td>0.7</td>\n",
       "      <td>0.1</td>\n",
       "      <td>0.1</td>\n",
       "    </tr>\n",
       "    <tr>\n",
       "      <th>4</th>\n",
       "      <td>5</td>\n",
       "      <td>choice5</td>\n",
       "      <td>0</td>\n",
       "      <td>1</td>\n",
       "      <td>0</td>\n",
       "      <td>5.794157</td>\n",
       "      <td>5.794157</td>\n",
       "      <td>6.345981</td>\n",
       "      <td>6.345981</td>\n",
       "      <td>4.690508</td>\n",
       "      <td>...</td>\n",
       "      <td>8</td>\n",
       "      <td>8</td>\n",
       "      <td>2</td>\n",
       "      <td>2</td>\n",
       "      <td>0.3</td>\n",
       "      <td>0.3</td>\n",
       "      <td>0.7</td>\n",
       "      <td>0.7</td>\n",
       "      <td>1.0</td>\n",
       "      <td>1.0</td>\n",
       "    </tr>\n",
       "    <tr>\n",
       "      <th>...</th>\n",
       "      <td>...</td>\n",
       "      <td>...</td>\n",
       "      <td>...</td>\n",
       "      <td>...</td>\n",
       "      <td>...</td>\n",
       "      <td>...</td>\n",
       "      <td>...</td>\n",
       "      <td>...</td>\n",
       "      <td>...</td>\n",
       "      <td>...</td>\n",
       "      <td>...</td>\n",
       "      <td>...</td>\n",
       "      <td>...</td>\n",
       "      <td>...</td>\n",
       "      <td>...</td>\n",
       "      <td>...</td>\n",
       "      <td>...</td>\n",
       "      <td>...</td>\n",
       "      <td>...</td>\n",
       "      <td>...</td>\n",
       "      <td>...</td>\n",
       "    </tr>\n",
       "    <tr>\n",
       "      <th>4649</th>\n",
       "      <td>4650</td>\n",
       "      <td>choice5</td>\n",
       "      <td>1</td>\n",
       "      <td>0</td>\n",
       "      <td>0</td>\n",
       "      <td>3.534628</td>\n",
       "      <td>3.534628</td>\n",
       "      <td>3.787101</td>\n",
       "      <td>3.787101</td>\n",
       "      <td>4.039574</td>\n",
       "      <td>...</td>\n",
       "      <td>8</td>\n",
       "      <td>8</td>\n",
       "      <td>2</td>\n",
       "      <td>2</td>\n",
       "      <td>0.0</td>\n",
       "      <td>0.0</td>\n",
       "      <td>0.1</td>\n",
       "      <td>0.1</td>\n",
       "      <td>0.3</td>\n",
       "      <td>0.3</td>\n",
       "    </tr>\n",
       "    <tr>\n",
       "      <th>4650</th>\n",
       "      <td>4651</td>\n",
       "      <td>choice3</td>\n",
       "      <td>0</td>\n",
       "      <td>1</td>\n",
       "      <td>0</td>\n",
       "      <td>3.086326</td>\n",
       "      <td>3.086326</td>\n",
       "      <td>3.561146</td>\n",
       "      <td>3.561146</td>\n",
       "      <td>3.798555</td>\n",
       "      <td>...</td>\n",
       "      <td>4</td>\n",
       "      <td>4</td>\n",
       "      <td>6</td>\n",
       "      <td>6</td>\n",
       "      <td>0.1</td>\n",
       "      <td>0.1</td>\n",
       "      <td>0.3</td>\n",
       "      <td>0.3</td>\n",
       "      <td>1.0</td>\n",
       "      <td>1.0</td>\n",
       "    </tr>\n",
       "    <tr>\n",
       "      <th>4651</th>\n",
       "      <td>4652</td>\n",
       "      <td>choice3</td>\n",
       "      <td>1</td>\n",
       "      <td>1</td>\n",
       "      <td>0</td>\n",
       "      <td>5.554415</td>\n",
       "      <td>5.554415</td>\n",
       "      <td>5.806888</td>\n",
       "      <td>5.806888</td>\n",
       "      <td>4.796995</td>\n",
       "      <td>...</td>\n",
       "      <td>4</td>\n",
       "      <td>4</td>\n",
       "      <td>8</td>\n",
       "      <td>8</td>\n",
       "      <td>0.0</td>\n",
       "      <td>0.0</td>\n",
       "      <td>0.1</td>\n",
       "      <td>0.1</td>\n",
       "      <td>1.0</td>\n",
       "      <td>1.0</td>\n",
       "    </tr>\n",
       "    <tr>\n",
       "      <th>4652</th>\n",
       "      <td>4653</td>\n",
       "      <td>choice3</td>\n",
       "      <td>1</td>\n",
       "      <td>0</td>\n",
       "      <td>0</td>\n",
       "      <td>3.532984</td>\n",
       "      <td>3.532984</td>\n",
       "      <td>1.927082</td>\n",
       "      <td>1.927082</td>\n",
       "      <td>2.248263</td>\n",
       "      <td>...</td>\n",
       "      <td>4</td>\n",
       "      <td>4</td>\n",
       "      <td>6</td>\n",
       "      <td>6</td>\n",
       "      <td>0.0</td>\n",
       "      <td>0.0</td>\n",
       "      <td>0.7</td>\n",
       "      <td>0.7</td>\n",
       "      <td>0.1</td>\n",
       "      <td>0.1</td>\n",
       "    </tr>\n",
       "    <tr>\n",
       "      <th>4653</th>\n",
       "      <td>4654</td>\n",
       "      <td>choice3</td>\n",
       "      <td>0</td>\n",
       "      <td>0</td>\n",
       "      <td>0</td>\n",
       "      <td>4.817706</td>\n",
       "      <td>4.817706</td>\n",
       "      <td>5.138886</td>\n",
       "      <td>5.138886</td>\n",
       "      <td>4.175345</td>\n",
       "      <td>...</td>\n",
       "      <td>2</td>\n",
       "      <td>2</td>\n",
       "      <td>6</td>\n",
       "      <td>6</td>\n",
       "      <td>0.0</td>\n",
       "      <td>0.0</td>\n",
       "      <td>0.3</td>\n",
       "      <td>0.3</td>\n",
       "      <td>1.0</td>\n",
       "      <td>1.0</td>\n",
       "    </tr>\n",
       "  </tbody>\n",
       "</table>\n",
       "<p>4654 rows × 59 columns</p>\n",
       "</div>"
      ],
      "text/plain": [
       "      rownames   choice  college  hsg  coml    price1    price2    price3  \\\n",
       "0            1  choice1        0    0     0  4.175345  4.175345  4.817706   \n",
       "1            2  choice2        1    1     1  3.310947  3.310947  3.586859   \n",
       "2            3  choice5        0    1     0  4.039574  4.039574  2.777207   \n",
       "3            4  choice5        0    0     1  7.065968  7.065968  7.387149   \n",
       "4            5  choice5        0    1     0  5.794157  5.794157  6.345981   \n",
       "...        ...      ...      ...  ...   ...       ...       ...       ...   \n",
       "4649      4650  choice5        1    0     0  3.534628  3.534628  3.787101   \n",
       "4650      4651  choice3        0    1     0  3.086326  3.086326  3.561146   \n",
       "4651      4652  choice3        1    1     0  5.554415  5.554415  5.806888   \n",
       "4652      4653  choice3        1    0     0  3.532984  3.532984  1.927082   \n",
       "4653      4654  choice3        0    0     0  4.817706  4.817706  5.138886   \n",
       "\n",
       "        price4    price5  ...  cost3  cost4  cost5  cost6  station1  station2  \\\n",
       "0     4.817706  5.138886  ...      6      6      8      8       0.1       0.1   \n",
       "1     3.586859  4.414596  ...      8      8      4      4       0.0       0.0   \n",
       "2     2.777207  3.282154  ...      8      8      2      2       0.1       0.1   \n",
       "3     7.387149  5.460066  ...      2      2      4      4       0.0       0.0   \n",
       "4     6.345981  4.690508  ...      8      8      2      2       0.3       0.3   \n",
       "...        ...       ...  ...    ...    ...    ...    ...       ...       ...   \n",
       "4649  3.787101  4.039574  ...      8      8      2      2       0.0       0.0   \n",
       "4650  3.561146  3.798555  ...      4      4      6      6       0.1       0.1   \n",
       "4651  5.806888  4.796995  ...      4      4      8      8       0.0       0.0   \n",
       "4652  1.927082  2.248263  ...      4      4      6      6       0.0       0.0   \n",
       "4653  5.138886  4.175345  ...      2      2      6      6       0.0       0.0   \n",
       "\n",
       "      station3  station4  station5  station6  \n",
       "0          0.3       0.3       1.0       1.0  \n",
       "1          0.1       0.1       1.0       1.0  \n",
       "2          0.3       0.3       1.0       1.0  \n",
       "3          0.7       0.7       0.1       0.1  \n",
       "4          0.7       0.7       1.0       1.0  \n",
       "...        ...       ...       ...       ...  \n",
       "4649       0.1       0.1       0.3       0.3  \n",
       "4650       0.3       0.3       1.0       1.0  \n",
       "4651       0.1       0.1       1.0       1.0  \n",
       "4652       0.7       0.7       0.1       0.1  \n",
       "4653       0.3       0.3       1.0       1.0  \n",
       "\n",
       "[4654 rows x 59 columns]"
      ]
     },
     "execution_count": 183,
     "metadata": {},
     "output_type": "execute_result"
    }
   ],
   "source": [
    "df = load_car_preferences(as_frame=True)\n",
    "df = df.loc[:, ~df.columns.str.startswith(('type', 'fuel'))]\n",
    "df.rename(columns={'hsg2': 'hsg', 'coml5': 'coml'}, inplace=True)\n",
    "df"
   ]
  },
  {
   "cell_type": "code",
   "execution_count": 184,
   "metadata": {},
   "outputs": [],
   "source": [
    "X = pd.DataFrame(columns=['price', 'range', 'acc', 'speed','pollution', 'size', 'space', 'cost','station'])\n",
    "Y = pd.DataFrame(columns=['price', 'range', 'acc', 'speed','pollution', 'size', 'space', 'cost','station'])\n",
    "Z_ = pd.DataFrame(columns=['college', 'hsg', 'coml'])\n",
    "for i in range(df.shape[0]):\n",
    "    choice = int(df.loc[i, 'choice'].replace(\"choice\", \"\"))\n",
    "    df_X = pd.DataFrame(df.loc[i, df.columns.str.endswith(str(choice))]).T\n",
    "    df_X.columns = list(X.columns)\n",
    "    for j in range(1,7):\n",
    "        if j!= choice :\n",
    "            df_Y = pd.DataFrame(df.loc[i, df.columns.str.endswith(str(j))]).T\n",
    "            df_Y.columns = list(Y.columns)\n",
    "\n",
    "            X = pd.concat([X,df_X], ignore_index=True)\n",
    "            Y = pd.concat([Y,df_Y], ignore_index=True)\n",
    "            Z_ = pd.concat([Z_, pd.DataFrame(df.loc[i, list(Z_.columns)]).T], ignore_index=True)\n",
    "\n",
    "X = (X - X.min()) / (X.max() - X.min())\n",
    "Y = (Y - Y.min()) / (Y.max() - Y.min())\n",
    "\n",
    "for param_to_invert in ['price','pollution','cost']:\n",
    "    X[param_to_invert]= 1 - X[param_to_invert]\n",
    "    Y[param_to_invert]= 1 - Y[param_to_invert]\n",
    "\n",
    "X = np.array(X)\n",
    "Y = np.array(Y)"
   ]
  },
  {
   "cell_type": "code",
   "execution_count": 185,
   "metadata": {},
   "outputs": [],
   "source": [
    "P, n = X.shape\n",
    "K = 2\n",
    "L = 10\n",
    "\n",
    "max_iter = 3"
   ]
  },
  {
   "cell_type": "code",
   "execution_count": 186,
   "metadata": {},
   "outputs": [],
   "source": [
    "importlib.reload(importlib.import_module('models'))\n",
    "from models import HeuristicModel"
   ]
  },
  {
   "cell_type": "code",
   "execution_count": 187,
   "metadata": {},
   "outputs": [
    {
     "name": "stdout",
     "output_type": "stream",
     "text": [
      "Set parameter Seed to value 123\n",
      "Fitting the model\n",
      "Warning for adding constraints: zero or small (< 1e-13) coefficients, ignored\n",
      "Gurobi Optimizer version 12.0.0 build v12.0.0rc1 (mac64[arm] - Darwin 24.2.0 24C101)\n",
      "\n",
      "CPU model: Apple M1\n",
      "Thread count: 8 physical cores, 8 logical processors, using up to 8 threads\n",
      "\n",
      "Non-default parameters:\n",
      "Seed  123\n",
      "\n",
      "Optimize a model with 46724 rows, 46738 columns and 891308 nonzeros\n",
      "Model fingerprint: 0xdb44706f\n",
      "Coefficient statistics:\n",
      "  Matrix range     [2e-03, 2e+00]\n",
      "  Objective range  [1e+00, 1e+00]\n",
      "  Bounds range     [1e+00, 1e+00]\n",
      "  RHS range        [1e-05, 2e+00]\n",
      "Presolve removed 9382 rows and 9380 columns\n",
      "Presolve time: 0.29s\n",
      "Presolved: 37342 rows, 37358 columns, 788602 nonzeros\n",
      "\n",
      "Concurrent LP optimizer: primal simplex, dual simplex, and barrier\n",
      "Showing barrier log only...\n",
      "\n",
      "Ordering time: 0.00s\n",
      "\n",
      "Barrier statistics:\n",
      " AA' NZ     : 3.102e+03\n",
      " Factor NZ  : 3.306e+03 (roughly 7 MB of memory)\n",
      " Factor Ops : 1.267e+05 (less than 1 second per iteration)\n",
      " Threads    : 6\n",
      "\n",
      "                  Objective                Residual\n",
      "Iter       Primal          Dual         Primal    Dual     Compl     Time\n",
      "   0  -1.55922479e+08  1.55875538e+05  6.52e+06 1.92e-03  4.32e+05     1s\n",
      "   1  -4.03578593e+06  8.40017557e+04  1.47e+05 4.21e+00  1.10e+04     1s\n",
      "\n",
      "Barrier performed 1 iterations in 0.62 seconds (1.15 work units)\n",
      "Barrier solve interrupted - model solved by another algorithm\n",
      "\n",
      "\n",
      "Solved with dual simplex\n",
      "Iteration    Objective       Primal Inf.    Dual Inf.      Time\n",
      "     252    8.3792874e-01   0.000000e+00   0.000000e+00      1s\n",
      "\n",
      "Use crossover to convert LP symmetric solution to basic solution...\n",
      "Crossover log...\n",
      "\n",
      "       0 DPushes remaining with DInf 0.0000000e+00                 1s\n",
      "\n",
      "       5 PPushes remaining with PInf 0.0000000e+00                 1s\n",
      "       0 PPushes remaining with PInf 0.0000000e+00                 1s\n",
      "\n",
      "  Push phase complete: Pinf 0.0000000e+00, Dinf 4.0362983e-12      1s\n",
      "\n",
      "Iteration    Objective       Primal Inf.    Dual Inf.      Time\n",
      "     372    8.3792874e-01   0.000000e+00   0.000000e+00      1s\n",
      "\n",
      "Solved in 372 iterations and 0.78 seconds (1.45 work units)\n",
      "Optimal objective  8.379287404e-01\n"
     ]
    },
    {
     "data": {
      "image/png": "[encoded data removed]",
      "text/plain": [
       "<Figure size 640x480 with 1 Axes>"
      ]
     },
     "metadata": {},
     "output_type": "display_data"
    },
    {
     "name": "stdout",
     "output_type": "stream",
     "text": [
      "Set parameter Seed to value 123\n",
      "Fitting the model\n",
      "Warning for adding constraints: zero or small (< 1e-13) coefficients, ignored\n"
     ]
    },
    {
     "ename": "KeyboardInterrupt",
     "evalue": "",
     "output_type": "error",
     "traceback": [
      "\u001b[0;31m---------------------------------------------------------------------------\u001b[0m",
      "\u001b[0;31mKeyboardInterrupt\u001b[0m                         Traceback (most recent call last)",
      "Cell \u001b[0;32mIn[187], line 10\u001b[0m\n\u001b[1;32m      7\u001b[0m \u001b[38;5;28;01mwhile\u001b[39;00m \u001b[38;5;28miter\u001b[39m \u001b[38;5;241m<\u001b[39m max_iter :\n\u001b[1;32m      9\u001b[0m     model \u001b[38;5;241m=\u001b[39m HeuristicModel(n_pieces\u001b[38;5;241m=\u001b[39mL,n_clusters\u001b[38;5;241m=\u001b[39mK,n_criterions\u001b[38;5;241m=\u001b[39mn,n_pairs\u001b[38;5;241m=\u001b[39mP,Z\u001b[38;5;241m=\u001b[39mZ)\n\u001b[0;32m---> 10\u001b[0m     \u001b[43mmodel\u001b[49m\u001b[38;5;241;43m.\u001b[39;49m\u001b[43mfit\u001b[49m\u001b[43m(\u001b[49m\u001b[43mX\u001b[49m\u001b[43m,\u001b[49m\u001b[43m \u001b[49m\u001b[43mY\u001b[49m\u001b[43m)\u001b[49m\n\u001b[1;32m     12\u001b[0m     predict_utility_X \u001b[38;5;241m=\u001b[39m model\u001b[38;5;241m.\u001b[39mpredict_utility(X)\n\u001b[1;32m     13\u001b[0m     predict_utility_Y \u001b[38;5;241m=\u001b[39m model\u001b[38;5;241m.\u001b[39mpredict_utility(Y)\n",
      "File \u001b[0;32m~/Desktop/cours/ORRA/DM/Project/notebooks/../python/models.py:375\u001b[0m, in \u001b[0;36mHeuristicModel.fit\u001b[0;34m(self, X, Y)\u001b[0m\n\u001b[1;32m    372\u001b[0m             \u001b[38;5;28mself\u001b[39m\u001b[38;5;241m.\u001b[39mmodel\u001b[38;5;241m.\u001b[39maddConstr(\u001b[38;5;28mself\u001b[39m\u001b[38;5;241m.\u001b[39mv[i,l,k]\u001b[38;5;241m+\u001b[39m\u001b[38;5;241m0.00001\u001b[39m\u001b[38;5;241m<\u001b[39m\u001b[38;5;241m=\u001b[39m\u001b[38;5;28mself\u001b[39m\u001b[38;5;241m.\u001b[39mv[i,l\u001b[38;5;241m+\u001b[39m\u001b[38;5;241m1\u001b[39m,k])\n\u001b[1;32m    373\u001b[0m     \u001b[38;5;28;01mfor\u001b[39;00m j \u001b[38;5;129;01min\u001b[39;00m \u001b[38;5;28mrange\u001b[39m(\u001b[38;5;28mself\u001b[39m\u001b[38;5;241m.\u001b[39mP) :\n\u001b[1;32m    374\u001b[0m         \u001b[38;5;28mself\u001b[39m\u001b[38;5;241m.\u001b[39mmodel\u001b[38;5;241m.\u001b[39maddConstr(\n\u001b[0;32m--> 375\u001b[0m             \u001b[38;5;28;43msum\u001b[39;49m\u001b[43m(\u001b[49m\u001b[38;5;28;43mself\u001b[39;49m\u001b[38;5;241;43m.\u001b[39;49m\u001b[43mindicatrice_segment\u001b[49m\u001b[43m(\u001b[49m\u001b[43mX\u001b[49m\u001b[43m[\u001b[49m\u001b[43mj\u001b[49m\u001b[43m,\u001b[49m\u001b[43mi\u001b[49m\u001b[43m]\u001b[49m\u001b[43m,\u001b[49m\u001b[43m \u001b[49m\u001b[43ml\u001b[49m\u001b[38;5;241;43m/\u001b[39;49m\u001b[38;5;28;43mself\u001b[39;49m\u001b[38;5;241;43m.\u001b[39;49m\u001b[43mL\u001b[49m\u001b[43m,\u001b[49m\u001b[43m \u001b[49m\u001b[43m(\u001b[49m\u001b[43ml\u001b[49m\u001b[38;5;241;43m+\u001b[39;49m\u001b[38;5;241;43m1\u001b[39;49m\u001b[43m)\u001b[49m\u001b[38;5;241;43m/\u001b[39;49m\u001b[38;5;28;43mself\u001b[39;49m\u001b[38;5;241;43m.\u001b[39;49m\u001b[43mL\u001b[49m\u001b[43m)\u001b[49m\u001b[43m \u001b[49m\u001b[38;5;241;43m*\u001b[39;49m\u001b[43m \u001b[49m\u001b[43m(\u001b[49m\u001b[38;5;28;43mself\u001b[39;49m\u001b[38;5;241;43m.\u001b[39;49m\u001b[43mv\u001b[49m\u001b[43m[\u001b[49m\u001b[43mi\u001b[49m\u001b[43m,\u001b[49m\u001b[43ml\u001b[49m\u001b[43m,\u001b[49m\u001b[43mk\u001b[49m\u001b[43m]\u001b[49m\u001b[43m \u001b[49m\u001b[38;5;241;43m+\u001b[39;49m\u001b[43m \u001b[49m\u001b[38;5;28;43mself\u001b[39;49m\u001b[38;5;241;43m.\u001b[39;49m\u001b[43mL\u001b[49m\u001b[38;5;241;43m*\u001b[39;49m\u001b[43m(\u001b[49m\u001b[38;5;28;43mself\u001b[39;49m\u001b[38;5;241;43m.\u001b[39;49m\u001b[43mv\u001b[49m\u001b[43m[\u001b[49m\u001b[43mi\u001b[49m\u001b[43m,\u001b[49m\u001b[43ml\u001b[49m\u001b[38;5;241;43m+\u001b[39;49m\u001b[38;5;241;43m1\u001b[39;49m\u001b[43m,\u001b[49m\u001b[43mk\u001b[49m\u001b[43m]\u001b[49m\u001b[43m \u001b[49m\u001b[38;5;241;43m-\u001b[39;49m\u001b[43m \u001b[49m\u001b[38;5;28;43mself\u001b[39;49m\u001b[38;5;241;43m.\u001b[39;49m\u001b[43mv\u001b[49m\u001b[43m[\u001b[49m\u001b[43mi\u001b[49m\u001b[43m,\u001b[49m\u001b[43ml\u001b[49m\u001b[43m,\u001b[49m\u001b[43mk\u001b[49m\u001b[43m]\u001b[49m\u001b[43m)\u001b[49m\u001b[43m \u001b[49m\u001b[38;5;241;43m*\u001b[39;49m\u001b[43m \u001b[49m\u001b[43m(\u001b[49m\u001b[43mX\u001b[49m\u001b[43m[\u001b[49m\u001b[43mj\u001b[49m\u001b[43m,\u001b[49m\u001b[43mi\u001b[49m\u001b[43m]\u001b[49m\u001b[38;5;241;43m-\u001b[39;49m\u001b[43ml\u001b[49m\u001b[38;5;241;43m/\u001b[39;49m\u001b[38;5;28;43mself\u001b[39;49m\u001b[38;5;241;43m.\u001b[39;49m\u001b[43mL\u001b[49m\u001b[43m)\u001b[49m\u001b[43m)\u001b[49m\u001b[43m \u001b[49m\u001b[38;5;28;43;01mfor\u001b[39;49;00m\u001b[43m \u001b[49m\u001b[43ml\u001b[49m\u001b[43m \u001b[49m\u001b[38;5;129;43;01min\u001b[39;49;00m\u001b[43m \u001b[49m\u001b[38;5;28;43mrange\u001b[39;49m\u001b[43m(\u001b[49m\u001b[38;5;28;43mself\u001b[39;49m\u001b[38;5;241;43m.\u001b[39;49m\u001b[43mL\u001b[49m\u001b[43m)\u001b[49m\u001b[43m \u001b[49m\u001b[38;5;28;43;01mfor\u001b[39;49;00m\u001b[43m \u001b[49m\u001b[43mi\u001b[49m\u001b[43m \u001b[49m\u001b[38;5;129;43;01min\u001b[39;49;00m\u001b[43m \u001b[49m\u001b[38;5;28;43mrange\u001b[39;49m\u001b[43m(\u001b[49m\u001b[38;5;28;43mself\u001b[39;49m\u001b[38;5;241;43m.\u001b[39;49m\u001b[43mn\u001b[49m\u001b[43m)\u001b[49m\u001b[43m)\u001b[49m \u001b[38;5;241m-\u001b[39m\n\u001b[1;32m    376\u001b[0m             \u001b[38;5;28msum\u001b[39m(\u001b[38;5;28mself\u001b[39m\u001b[38;5;241m.\u001b[39mindicatrice_segment(Y[j,i], l\u001b[38;5;241m/\u001b[39m\u001b[38;5;28mself\u001b[39m\u001b[38;5;241m.\u001b[39mL, (l\u001b[38;5;241m+\u001b[39m\u001b[38;5;241m1\u001b[39m)\u001b[38;5;241m/\u001b[39m\u001b[38;5;28mself\u001b[39m\u001b[38;5;241m.\u001b[39mL) \u001b[38;5;241m*\u001b[39m (\u001b[38;5;28mself\u001b[39m\u001b[38;5;241m.\u001b[39mv[i,l,k] \u001b[38;5;241m+\u001b[39m \u001b[38;5;28mself\u001b[39m\u001b[38;5;241m.\u001b[39mL\u001b[38;5;241m*\u001b[39m(\u001b[38;5;28mself\u001b[39m\u001b[38;5;241m.\u001b[39mv[i,l\u001b[38;5;241m+\u001b[39m\u001b[38;5;241m1\u001b[39m,k] \u001b[38;5;241m-\u001b[39m \u001b[38;5;28mself\u001b[39m\u001b[38;5;241m.\u001b[39mv[i,l,k]) \u001b[38;5;241m*\u001b[39m (Y[j,i]\u001b[38;5;241m-\u001b[39ml\u001b[38;5;241m/\u001b[39m\u001b[38;5;28mself\u001b[39m\u001b[38;5;241m.\u001b[39mL)) \u001b[38;5;28;01mfor\u001b[39;00m l \u001b[38;5;129;01min\u001b[39;00m \u001b[38;5;28mrange\u001b[39m(\u001b[38;5;28mself\u001b[39m\u001b[38;5;241m.\u001b[39mL) \u001b[38;5;28;01mfor\u001b[39;00m i \u001b[38;5;129;01min\u001b[39;00m \u001b[38;5;28mrange\u001b[39m(\u001b[38;5;28mself\u001b[39m\u001b[38;5;241m.\u001b[39mn)) \u001b[38;5;241m+\u001b[39m\n\u001b[1;32m    377\u001b[0m             \u001b[38;5;28mself\u001b[39m\u001b[38;5;241m.\u001b[39mepsilon[j,k] \u001b[38;5;241m+\u001b[39m \u001b[38;5;241m2\u001b[39m\u001b[38;5;241m*\u001b[39m(\u001b[38;5;241m1\u001b[39m\u001b[38;5;241m-\u001b[39m\u001b[38;5;28mself\u001b[39m\u001b[38;5;241m.\u001b[39mz[j,k]) \u001b[38;5;241m>\u001b[39m\u001b[38;5;241m=\u001b[39m \u001b[38;5;241m0\u001b[39m,name \u001b[38;5;241m=\u001b[39m \u001b[38;5;124mf\u001b[39m\u001b[38;5;124m'\u001b[39m\u001b[38;5;124mutility_constraint_u_\u001b[39m\u001b[38;5;132;01m{\u001b[39;00mk\u001b[38;5;132;01m}\u001b[39;00m\u001b[38;5;124m'\u001b[39m)\n\u001b[1;32m    379\u001b[0m \u001b[38;5;66;03m# Set the objective to minimize epsilon\u001b[39;00m\n\u001b[1;32m    380\u001b[0m \u001b[38;5;28mself\u001b[39m\u001b[38;5;241m.\u001b[39mmodel\u001b[38;5;241m.\u001b[39msetObjective(\u001b[38;5;28msum\u001b[39m(\u001b[38;5;28mself\u001b[39m\u001b[38;5;241m.\u001b[39mepsilon[j,k] \u001b[38;5;28;01mfor\u001b[39;00m j \u001b[38;5;129;01min\u001b[39;00m \u001b[38;5;28mrange\u001b[39m(\u001b[38;5;28mself\u001b[39m\u001b[38;5;241m.\u001b[39mP) \u001b[38;5;28;01mfor\u001b[39;00m k \u001b[38;5;129;01min\u001b[39;00m \u001b[38;5;28mrange\u001b[39m(\u001b[38;5;28mself\u001b[39m\u001b[38;5;241m.\u001b[39mK)), GRB\u001b[38;5;241m.\u001b[39mMINIMIZE)\n",
      "File \u001b[0;32m~/Desktop/cours/ORRA/DM/Project/notebooks/../python/models.py:375\u001b[0m, in \u001b[0;36m<genexpr>\u001b[0;34m(.0)\u001b[0m\n\u001b[1;32m    372\u001b[0m             \u001b[38;5;28mself\u001b[39m\u001b[38;5;241m.\u001b[39mmodel\u001b[38;5;241m.\u001b[39maddConstr(\u001b[38;5;28mself\u001b[39m\u001b[38;5;241m.\u001b[39mv[i,l,k]\u001b[38;5;241m+\u001b[39m\u001b[38;5;241m0.00001\u001b[39m\u001b[38;5;241m<\u001b[39m\u001b[38;5;241m=\u001b[39m\u001b[38;5;28mself\u001b[39m\u001b[38;5;241m.\u001b[39mv[i,l\u001b[38;5;241m+\u001b[39m\u001b[38;5;241m1\u001b[39m,k])\n\u001b[1;32m    373\u001b[0m     \u001b[38;5;28;01mfor\u001b[39;00m j \u001b[38;5;129;01min\u001b[39;00m \u001b[38;5;28mrange\u001b[39m(\u001b[38;5;28mself\u001b[39m\u001b[38;5;241m.\u001b[39mP) :\n\u001b[1;32m    374\u001b[0m         \u001b[38;5;28mself\u001b[39m\u001b[38;5;241m.\u001b[39mmodel\u001b[38;5;241m.\u001b[39maddConstr(\n\u001b[0;32m--> 375\u001b[0m             \u001b[38;5;28msum\u001b[39m(\u001b[38;5;28mself\u001b[39m\u001b[38;5;241m.\u001b[39mindicatrice_segment(X[j,i], l\u001b[38;5;241m/\u001b[39m\u001b[38;5;28mself\u001b[39m\u001b[38;5;241m.\u001b[39mL, (l\u001b[38;5;241m+\u001b[39m\u001b[38;5;241m1\u001b[39m)\u001b[38;5;241m/\u001b[39m\u001b[38;5;28mself\u001b[39m\u001b[38;5;241m.\u001b[39mL) \u001b[38;5;241m*\u001b[39m (\u001b[38;5;28mself\u001b[39m\u001b[38;5;241m.\u001b[39mv[i,l,k] \u001b[38;5;241m+\u001b[39m \u001b[38;5;28;43mself\u001b[39;49m\u001b[38;5;241;43m.\u001b[39;49m\u001b[43mL\u001b[49m\u001b[38;5;241;43m*\u001b[39;49m\u001b[43m(\u001b[49m\u001b[38;5;28;43mself\u001b[39;49m\u001b[38;5;241;43m.\u001b[39;49m\u001b[43mv\u001b[49m\u001b[43m[\u001b[49m\u001b[43mi\u001b[49m\u001b[43m,\u001b[49m\u001b[43ml\u001b[49m\u001b[38;5;241;43m+\u001b[39;49m\u001b[38;5;241;43m1\u001b[39;49m\u001b[43m,\u001b[49m\u001b[43mk\u001b[49m\u001b[43m]\u001b[49m\u001b[43m \u001b[49m\u001b[38;5;241;43m-\u001b[39;49m\u001b[43m \u001b[49m\u001b[38;5;28;43mself\u001b[39;49m\u001b[38;5;241;43m.\u001b[39;49m\u001b[43mv\u001b[49m\u001b[43m[\u001b[49m\u001b[43mi\u001b[49m\u001b[43m,\u001b[49m\u001b[43ml\u001b[49m\u001b[43m,\u001b[49m\u001b[43mk\u001b[49m\u001b[43m]\u001b[49m\u001b[43m)\u001b[49m\u001b[43m \u001b[49m\u001b[38;5;241;43m*\u001b[39;49m\u001b[43m \u001b[49m\u001b[43m(\u001b[49m\u001b[43mX\u001b[49m\u001b[43m[\u001b[49m\u001b[43mj\u001b[49m\u001b[43m,\u001b[49m\u001b[43mi\u001b[49m\u001b[43m]\u001b[49m\u001b[38;5;241;43m-\u001b[39;49m\u001b[43ml\u001b[49m\u001b[38;5;241;43m/\u001b[39;49m\u001b[38;5;28;43mself\u001b[39;49m\u001b[38;5;241;43m.\u001b[39;49m\u001b[43mL\u001b[49m\u001b[43m)\u001b[49m) \u001b[38;5;28;01mfor\u001b[39;00m l \u001b[38;5;129;01min\u001b[39;00m \u001b[38;5;28mrange\u001b[39m(\u001b[38;5;28mself\u001b[39m\u001b[38;5;241m.\u001b[39mL) \u001b[38;5;28;01mfor\u001b[39;00m i \u001b[38;5;129;01min\u001b[39;00m \u001b[38;5;28mrange\u001b[39m(\u001b[38;5;28mself\u001b[39m\u001b[38;5;241m.\u001b[39mn)) \u001b[38;5;241m-\u001b[39m\n\u001b[1;32m    376\u001b[0m             \u001b[38;5;28msum\u001b[39m(\u001b[38;5;28mself\u001b[39m\u001b[38;5;241m.\u001b[39mindicatrice_segment(Y[j,i], l\u001b[38;5;241m/\u001b[39m\u001b[38;5;28mself\u001b[39m\u001b[38;5;241m.\u001b[39mL, (l\u001b[38;5;241m+\u001b[39m\u001b[38;5;241m1\u001b[39m)\u001b[38;5;241m/\u001b[39m\u001b[38;5;28mself\u001b[39m\u001b[38;5;241m.\u001b[39mL) \u001b[38;5;241m*\u001b[39m (\u001b[38;5;28mself\u001b[39m\u001b[38;5;241m.\u001b[39mv[i,l,k] \u001b[38;5;241m+\u001b[39m \u001b[38;5;28mself\u001b[39m\u001b[38;5;241m.\u001b[39mL\u001b[38;5;241m*\u001b[39m(\u001b[38;5;28mself\u001b[39m\u001b[38;5;241m.\u001b[39mv[i,l\u001b[38;5;241m+\u001b[39m\u001b[38;5;241m1\u001b[39m,k] \u001b[38;5;241m-\u001b[39m \u001b[38;5;28mself\u001b[39m\u001b[38;5;241m.\u001b[39mv[i,l,k]) \u001b[38;5;241m*\u001b[39m (Y[j,i]\u001b[38;5;241m-\u001b[39ml\u001b[38;5;241m/\u001b[39m\u001b[38;5;28mself\u001b[39m\u001b[38;5;241m.\u001b[39mL)) \u001b[38;5;28;01mfor\u001b[39;00m l \u001b[38;5;129;01min\u001b[39;00m \u001b[38;5;28mrange\u001b[39m(\u001b[38;5;28mself\u001b[39m\u001b[38;5;241m.\u001b[39mL) \u001b[38;5;28;01mfor\u001b[39;00m i \u001b[38;5;129;01min\u001b[39;00m \u001b[38;5;28mrange\u001b[39m(\u001b[38;5;28mself\u001b[39m\u001b[38;5;241m.\u001b[39mn)) \u001b[38;5;241m+\u001b[39m\n\u001b[1;32m    377\u001b[0m             \u001b[38;5;28mself\u001b[39m\u001b[38;5;241m.\u001b[39mepsilon[j,k] \u001b[38;5;241m+\u001b[39m \u001b[38;5;241m2\u001b[39m\u001b[38;5;241m*\u001b[39m(\u001b[38;5;241m1\u001b[39m\u001b[38;5;241m-\u001b[39m\u001b[38;5;28mself\u001b[39m\u001b[38;5;241m.\u001b[39mz[j,k]) \u001b[38;5;241m>\u001b[39m\u001b[38;5;241m=\u001b[39m \u001b[38;5;241m0\u001b[39m,name \u001b[38;5;241m=\u001b[39m \u001b[38;5;124mf\u001b[39m\u001b[38;5;124m'\u001b[39m\u001b[38;5;124mutility_constraint_u_\u001b[39m\u001b[38;5;132;01m{\u001b[39;00mk\u001b[38;5;132;01m}\u001b[39;00m\u001b[38;5;124m'\u001b[39m)\n\u001b[1;32m    379\u001b[0m \u001b[38;5;66;03m# Set the objective to minimize epsilon\u001b[39;00m\n\u001b[1;32m    380\u001b[0m \u001b[38;5;28mself\u001b[39m\u001b[38;5;241m.\u001b[39mmodel\u001b[38;5;241m.\u001b[39msetObjective(\u001b[38;5;28msum\u001b[39m(\u001b[38;5;28mself\u001b[39m\u001b[38;5;241m.\u001b[39mepsilon[j,k] \u001b[38;5;28;01mfor\u001b[39;00m j \u001b[38;5;129;01min\u001b[39;00m \u001b[38;5;28mrange\u001b[39m(\u001b[38;5;28mself\u001b[39m\u001b[38;5;241m.\u001b[39mP) \u001b[38;5;28;01mfor\u001b[39;00m k \u001b[38;5;129;01min\u001b[39;00m \u001b[38;5;28mrange\u001b[39m(\u001b[38;5;28mself\u001b[39m\u001b[38;5;241m.\u001b[39mK)), GRB\u001b[38;5;241m.\u001b[39mMINIMIZE)\n",
      "File \u001b[0;32msrc/gurobipy/linexpr.pxi:536\u001b[0m, in \u001b[0;36mgurobipy._core.LinExpr.__mul__\u001b[0;34m()\u001b[0m\n",
      "File \u001b[0;32msrc/gurobipy/linexpr.pxi:42\u001b[0m, in \u001b[0;36mgurobipy._core.LinExpr.__init__\u001b[0;34m()\u001b[0m\n",
      "File \u001b[0;32m<frozen abc>:117\u001b[0m, in \u001b[0;36m__instancecheck__\u001b[0;34m(cls, instance)\u001b[0m\n",
      "\u001b[0;31mKeyboardInterrupt\u001b[0m: "
     ]
    }
   ],
   "source": [
    "kmeans = KMeans(n_clusters=K, random_state=0)\n",
    "Z = kmeans.fit_predict(Z_[['college', 'hsg', 'coml']])\n",
    "unique_values = np.unique(Z)\n",
    "Z = np.array([Z == val for val in unique_values]).T.astype(int)\n",
    "\n",
    "iter = 0\n",
    "while iter < max_iter :\n",
    "    \n",
    "    model = HeuristicModel(n_pieces=L,n_clusters=K,n_criterions=n,n_pairs=P,Z=Z)\n",
    "    model.fit(X, Y)\n",
    "\n",
    "    predict_utility_X = model.predict_utility(X)\n",
    "    predict_utility_Y = model.predict_utility(Y)\n",
    "    vect = np.any(predict_utility_X-predict_utility_Y < 0, axis=1)\n",
    "\n",
    "    plot_2D(predict_utility_X,predict_utility_Y)\n",
    "\n",
    "    Z = changement_cluster(Z.copy(), vect)\n",
    "\n",
    "    iter+=1"
   ]
  }
 ],
 "metadata": {
  "kernelspec": {
   "display_name": "Python 3",
   "language": "python",
   "name": "python3"
  },
  "language_info": {
   "codemirror_mode": {
    "name": "ipython",
    "version": 3
   },
   "file_extension": ".py",
   "mimetype": "text/x-python",
   "name": "python",
   "nbconvert_exporter": "python",
   "pygments_lexer": "ipython3",
   "version": "3.12.3"
  }
 },
 "nbformat": 4,
 "nbformat_minor": 2
}
